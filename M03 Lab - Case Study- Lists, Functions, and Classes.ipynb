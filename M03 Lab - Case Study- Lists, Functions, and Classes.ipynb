{
 "cells": [
  {
   "cell_type": "code",
   "execution_count": 1,
   "id": "40624e43-565d-407c-a1c1-9b160937f979",
   "metadata": {},
   "outputs": [],
   "source": [
    "#     Misty Mayfield\n",
    "#     CO3937652\n",
    "#     SDEV220 Spring Software Development\n",
    "#     M03 Lab - Case Study: Lists, Functions, and Classes\n",
    "#     2/6/23"
   ]
  },
  {
   "cell_type": "code",
   "execution_count": 22,
   "id": "c360f43a-cc61-4c50-a263-71d0d9621a12",
   "metadata": {},
   "outputs": [
    {
     "name": "stdin",
     "output_type": "stream",
     "text": [
      "Please list the automobile type:  Car\n",
      "Please list the year:  2022\n",
      "Please list the make:  Toyota\n",
      "Please list the model:  Corolla\n",
      "Please list the number of doors (2 or 4):  4\n",
      "Please list the roof type (solid or moonroof):  Moonroof\n"
     ]
    },
    {
     "name": "stdout",
     "output_type": "stream",
     "text": [
      " Vehicle type:  Car \n",
      " Year:  2022 \n",
      " Make:  Toyota \n",
      " Model:  Corolla \n",
      " Number of doors:  4 \n",
      " Type of roof:  Moonroof\n"
     ]
    }
   ],
   "source": [
    "class Vehicle():\n",
    "    \n",
    "    def __init__(self, vehicle_type):\n",
    "        self.vehicle_type = vehicle_type\n",
    "        \n",
    "    def transport(self):\n",
    "        print(\"Vehicle type: \", self.vehicle_type)\n",
    "\n",
    "class Automobile(Vehicle):\n",
    "    \n",
    "    def __init__(self, vehicle_type, year, make, model, doors, roof_type):\n",
    "        super().__init__(vehicle_type)\n",
    "        self.year = year\n",
    "        self.make = make\n",
    "        self.model = model\n",
    "        self.doors = doors\n",
    "        self.roof_type = roof_type\n",
    "    \n",
    "    def summary(self):\n",
    "        print(\" Vehicle type: \", self.vehicle_type, \"\\n Year: \", self.year, \"\\n Make: \", self.make, \"\\n Model: \", self.model, \"\\n Number of doors: \", self.doors, \"\\n Type of roof: \", self.roof_type)\n",
    "\n",
    "veh = input(\"Please list the automobile type: \")\n",
    "yr = input(\"Please list the year: \")\n",
    "mk = input(\"Please list the make: \")\n",
    "mdl = input(\"Please list the model: \")\n",
    "drs = input(\"Please list the number of doors (2 or 4): \")\n",
    "rft = input(\"Please list the roof type (solid or moonroof): \")\n",
    "\n",
    "user_info = Automobile(veh, yr, mk, mdl, drs, rft)    \n",
    "user_info.summary()"
   ]
  }
 ],
 "metadata": {
  "kernelspec": {
   "display_name": "Python 3 (ipykernel)",
   "language": "python",
   "name": "python3"
  },
  "language_info": {
   "codemirror_mode": {
    "name": "ipython",
    "version": 3
   },
   "file_extension": ".py",
   "mimetype": "text/x-python",
   "name": "python",
   "nbconvert_exporter": "python",
   "pygments_lexer": "ipython3",
   "version": "3.9.13"
  }
 },
 "nbformat": 4,
 "nbformat_minor": 5
}
